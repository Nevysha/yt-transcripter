{
 "cells": [
  {
   "cell_type": "markdown",
   "source": [
    "choco install ffmpeg"
   ],
   "metadata": {
    "collapsed": false
   },
   "id": "57b25748cc0ba202"
  },
  {
   "cell_type": "code",
   "outputs": [],
   "source": [
    "from imageio.plugins import ffmpeg\n",
    "from pytube import YouTube\n",
    "\n",
    "yt = YouTube('https://www.youtube.com/watch?v=m0FLBbdvThY')\n",
    "yt.streams.filter(progressive=True, file_extension='mp4').order_by('resolution').desc().first().download('video.mp4')"
   ],
   "metadata": {
    "collapsed": false
   },
   "id": "ca260d04eee003d1"
  },
  {
   "cell_type": "code",
   "outputs": [],
   "source": [
    "import os\n",
    "from moviepy.editor import *\n",
    "\n",
    "video = VideoFileClip(os.path.join(\"video.mp4\"))\n",
    "video.audio.write_audiofile(os.path.join(\"movie_sound.mp3\"))"
   ],
   "metadata": {
    "collapsed": false
   },
   "id": "1c8b1f34859f5ff8",
   "execution_count": null
  },
  {
   "cell_type": "markdown",
   "source": [],
   "metadata": {
    "collapsed": false
   },
   "id": "ef6bc7f978bd6633"
  },
  {
   "cell_type": "code",
   "outputs": [
    {
     "name": "stderr",
     "output_type": "stream",
     "text": [
      "100%|█████████████████████████████████████| 1.42G/1.42G [01:11<00:00, 21.4MiB/s]\n"
     ]
    },
    {
     "name": "stdout",
     "output_type": "stream",
     "text": [
      " The text in video: \n",
      "  Aujourd'hui, on reçoit donc Cédric et Clément qui travaillent dans la sécurité informatique d'un des plus gros sites en France. On peut dire qu'Hermedoktolib, ça n'est pas rien. C'est une collaboration commerciale très particulière parce que je désespère depuis des années de discuter avec des hackers et des équipes de cybersécurité qui parleraient sans filtre de comment exactement de protéger une boîte de cette taille en 2024. Quelles sont les attaques les plus folles ou les plus tordues que vous ayez jamais subi. Si oui, qui était derrière, si vous le savez ? Est-ce que c'est stressant comme métier ? Plein de questions que les gens peuvent se poser. Mais surtout, et c'est ça qui va nous intéresser, on va revenir dans le détail sur l'une des plus grosses cyberattaques que vous ayez eues de votre histoire, c'était au beau milieu de l'été, il y a quelques années. Vous allez nous expliquer tout ça. Déjà, pour commencer, pour peindre le tableau, il y a combien de personnes qui sont dédiées uniquement à la cybersécurité chez vous ? Alors à temps plein, vraiment, on a quatre équipes. Ça représente 21 personnes vraiment. Donc 100% 1G sécu et ils ne font que ça de leur journée. On a l'activité de l'équipe de Clément, donc ce qu'on appelle Product Security en interne, qui est là pour aider les développeurs à produire du code sécurisé. On a une équipe qui est vraiment tournée juste sur la sécurité de la plateforme, donc toute la partie cloud. Une autre partie de l'équipe qui fait toute la partie sécurité de l'environnement qu'on donne aux employés de Doctolib pour travailler. Et après, on a cette fameuse Red Team, Blue Team. Les rouges, c'est les attaquants. Les bleus, c'est les défenseurs. Donc les bleus doivent détecter tout ce qui est généré par les attaquants. Et la réciproque est vraie, les rouges ne doivent pas se faire attraper par le bleu. Jusqu'à présent, les bleus ont gagné. Alors pour commencer sur des choses un petit peu simples, est-ce que vous êtes victime de DDoS par exemple ? Ouais, ça arrive souvent. Ça arrive très souvent. En fait, on a une volumétrie de trafic qui est tellement énorme qu'on a beaucoup de trafic qu'on pourrait appeler Garbage, donc trafic poubelle, qui va s'insérer là-dedans. Et en fait, ce qu'on va détecter, nous, c'est des pics. Et suivant la durée et l'intensité, on va considérer ça comme un DDoS. Donc parfois, c'est des trucs qui sont générés automatiquement. Parfois, c'est des choses qui sont vraiment très très ciblées. Il paraît que par exemple, vous êtes fait DDoS par le président. Celui-là, c'est le plus beau qu'on ait déjà fait. En fait, il faut se remettre un peu dans le contexte. C'est le contexte de pandémie. Au moment de la deuxième campagne de vaccination, on était un des trois prestataires retenus par l'État pour aider les gens à se faire vacciner. Et un soir, on a le président Macron qui, le 12 juillet, si ma mémoire est bonne, qui passe à la télévision à 20h et qui explique à tout le monde que pour l'été, si vous voulez pouvoir aller boire un verre dans les bars, faire la fête, il vous faut absolument une deuxième dose de vaccin. Et là, on s'est fait défoncer. C'est assez marrant parce qu'on avait des métriques précédentes. On a Stan, notre PDG, qui passait assez régulièrement à la télé aussi, parce que c'était un sujet d'actualité. En gros, quand Stan passe à la télé, notre trafic fait x3. Mais on est prévenus que Stan va à la télé. Malheureusement, on n'a pas ce même niveau de connivence avec le président. Avec Emmanuel Macron. Et lui, quand il passe à la télé, notre trafic, il fait x10. Et il ne nous prévient pas. Et même si on a des mécanismes qu'on appelle l'autoscaling, elle augmente et elle réduit en fonction de la charge qui est appliquée dessus. C'est un mécanisme qui prend 15 minutes à peu près pour arriver à soutenir la charge. Et en moins de 15 minutes, on s'est fait bien tabasser. Donc ça, c'est un exemple fortuit. Est-ce que vous avez vraiment des DDoS dont vous savez qu'ils sont malicieux ? Plus récemment, on a vu des premiers DDoS liés à de la génération via de l'EI. C'était assez bluffant parce que c'était vraiment très intelligent. Dans le sens où ils arrivaient à l'attaquant ou les attaquants arrivaient à détecter de manière assez fine les mécanismes qu'on avait mis en face pour se protéger. Alors qu'on pourrait dire que tout ce qui est spam, des DDoS, des choses comme ça, c'est dans le bas de la sophistication, on va dire. C'est assez simple. Mais là, non, il y avait une vraie adaptation de l'ennemi, entre guillemets. Les premiers niveaux, entre guillemets, étaient assez simples. Et puis après, effectivement, ils commençaient à injecter des caractères spéciaux dans certains trucs. Ça faisait bugger nos consoles de monitoring. Enfin, il y avait des trucs qui commençaient à être un peu recherchés. C'est ouf. Est-ce qu'il y a d'autres affaires que vous avez subies qui sortent un peu de l'ordinaire ? On en a une, le SMS pumping. En gros, l'idée, c'est que nous, on va envoyer des SMS, notamment quand tu t'inscris sur Doctolib pour s'assurer que le numéro de téléphone que tu inscris, c'est ton numéro de téléphone. On va t'envoyer un code, c'est un mécanisme qui est assez courant dans les inscriptions. Et globalement, il y a des attaquants qui vont automatiser l'inscription et ils vont mettre des numéros de ligne sur Taxé qu'ils ont ouverts eux-mêmes. Donc nous, on va leur envoyer un SMS sur une ligne sur Taxé où on va les appeler parce qu'on a des mécanismes où on va appeler pour des gens qui sont par exemple aveugles et eux récupèrent l'argent. C'est diabolique. Oui. Je ne savais même pas que ça pouvait marcher. Mais du coup, on en a eu pas mal l'année dernière sur ça. Donc l'idée, c'est comment tu filtres parmi les milliers, les milliers d'inscriptions qu'on a tous les jours, les numéros sur Taxé. Donc il y a des libres qui font ça, qui te disent tel numéro est potentiellement sur Taxé. C'est quand même fou que la seule solution, ce soit qu'il y ait des libres qui soient spécialisés à lister tous les numéros sur Taxé. C'est des libres de Google. C'est Google qui fait ça. Est-ce que vous avez pensé également à des scénarios d'attaques physiques ? On fait des audits physiques de nos bureaux. Donc le dernier qui était assez marrant, c'est celui qu'on a fait à Berlin. Donc ils se sont déguisés en agents de ménage. Ils ont réussi à faire réellement croire aux gens qu'on a à l'accueil là-bas. Qui leur manquait un badge, donc ils ont récupéré un badge. Qu'ils ont dupliqué après. Ils se sont baladés dans les locaux. Ils ont recréé des clés. Et ils sont allés jusqu'à s'amuser à rentrer dans une salle où on a un coffre-forme et qu'ils stockent des papiers... Lego. Des papiers Lego, quoi, en haut des contrats, des choses comme ça. Ils ont pas réussi à rentrer. Ils ont pas réussi, mais par contre, ce qui était assez marrant, c'est qu'ils ont mis de l'encre ultraviolette sur les touches. Ils sont revenus le lendemain, ils ont récupéré l'étendue des chiffres qui sont utilisés pour la combinaison. Mais vu qu'il y en a beaucoup, ils n'ont pas réussi à retrouver le code. Ah, débat, mais je connaissais même pas cette technique-là. Et est-ce que vous avez d'autres petites filouteries en interne qui vous permettent de vous auditer ? J'en sais rien. Toujours la Red Team qui s'amuse bien. Dernièrement, ils ont mis un ROG Access Point Wi-Fi dans les locaux. On a un Wi-Fi interne avec l'autorente classique. Et l'idée, c'est de créer un SSID qui ressemble très fortement au SSID de Docto. Et ils ont mis un Raspberry Pi dans le faux plafond qui générait un faux Wi-Fi et ils ont regardé s'il y a des gens qui se connectaient dessus. Donc là-dessus, on a beaucoup de chance, je trouve, parce qu'on a une population qui est assez bien éduquée sur la sécurité. Je vous propose de revenir sur, pour le coup, la plus grosse Simeratech à laquelle vous avez dû faire face et nous expliquer un peu c'est quoi les coulisses d'une vraie bonne crise. Tout commence donc en juillet 2020. Et justement, on est en plein été, juste après le confinement. Jusqu'ici, tout va bien sur la plateforme. Quels sont les premiers signes qu'il y a un problème et dans quelles conditions vous êtes quand vous vous en rendez compte ? Alors en fait, on a beaucoup de choses qui surveillent le trafficat normal. Et on a notamment un outil qui va générer des codes d'erreur HTTP spécifiques quand on va avoir trop de requêtes. Ça, quand on envoie trop dans un temps très court, ça fait sonner des alarmes automatiques. Donc c'est comme ça qu'on l'a détecté. Ça a été détecté à 2h15 du matin, je crois. Et ça, ça déclenche automatiquement une crise. Là, vu que c'est une alerte qui est générée par un outil de Sécu, c'est quelqu'un de l'équipe Sécu qui va aller regarder. Il ou elle va commencer à faire l'analyse des logs, parce que du coup, on a les logs qui sont remontés en même temps que l'alerte. Et en creusant, on va s'apercevoir qu'il y a une certaine logique business qui est utilisée. La logique business étant, tu utilises une fonctionnalité A qui va appeler une fonctionnalité B. Et puis, si tu injectes un truc qui vient de C, t'as un résultat qui est Z, par exemple. Et donc là, du coup, on fait appel aux devs qui sont les propriétaires de cette fonctionnalité-là. On leur demande, mais qu'est-ce qu'il y a derrière ? Qu'est-ce qui vous répond ? Est-ce que c'est bien normal ? Effectivement, ce n'est pas très normal ce qui se passe. On s'aperçoit qu'il y a un compte qui a 10 000 rendez-vous. C'est assez bizarre, on ne comprend pas l'intérêt. Et en fait, en creusant, on se rend compte qu'il ne s'est pas créé 10 000 rendez-vous, il s'est approprié 10 000 rendez-vous, mais qui à la base n'étaient pas les siens. Après, il faut trouver pourquoi il y a ces 10 000 rendez-vous-là et pas plus, et pourquoi ceux-là. En fait, c'était des rendez-vous qui étaient pris pour des gens qui n'avaient pas de compte d'octolib. Il y a un truc qui est assez important de rappeler. En gros, chez Docto, tu as trois moyens d'obtenir un rendez-vous avec un praticien. Soit tu as un compte sur l'appli, tu cherches et tu trouves un praticien. La réciproque est vraie, le praticien peut t'assigner un rendez-vous parce que tu as un compte. Et tu as le troisième cas que décrit Clément, où en fait, le praticien crée un rendez-vous pour quelqu'un qui n'a pas de compte d'octolib. Et donc dans ce cas-là, ce qui se passe, c'est que tu reçois un mail et quand tu cliques sur le lien qui est dans le mail, le rendez-vous t'est assigné automatiquement, même si tu n'as pas de compte. Mais en fait, dans le code, quand tu regardes, il y a un truc qui dit, en gros, si ce rendez-vous-là n'est pas assigné à un compte, la vulgarité est là, tu vas assigner le rendez-vous qui n'a pas de compte lié au compte courant. En fait, il se trouve qu'il y a un pirate, ce qu'il a fait, c'est qu'il s'est rendu compte que la logique était celle-là et il a parcouru l'ensemble des rendez-vous et la logique faisait que c'était le compte qui venait voir ces rendez-vous, qui récupérait le rendez-vous. C'est comme ça qu'il a réussi à accéder à des infos. Est-ce qu'à ce moment-là, vous balisez quand même un peu ? On a quand même beaucoup de process qui décrivent ce qu'on doit faire, c'est timer, etc. Donc de ce point de vue-là, il n'y a pas de stress. Mais encore une fois, pour nous, l'équipe Sécu, l'équipe Tech, l'objectif, c'est de s'assurer que une fois qu'on a compris ce qui se passe, et donc ça, c'est ce qu'on doit faire le plus vite possible, c'est qu'on soit en capacité d'arrêter ce fonctionnement le plus vite possible. Pour ça, on se donne en règle générale un quart d'heure, c'est la métrique qu'on essaie de tenir. Parfois, on prend plus de temps puisque l'analyse est plus longue, mais globalement, c'est ça. Donc ce qui s'est passé, en gros, l'incident, dans toute son intégralité, de la détection jusqu'à la fin de la cellule de crise, ça a duré de 2h15 du matin jusqu'à 21h. C'est 19 heures de boulot non-stop avec pas mal de gens. Mais à 14 heures, le patch était testé, il a été poussé en production et on avait mis des règles qui empêchaient déjà de réitérer l'attaque. Quelqu'un d'appeler ses endpoints vulnérables. Le patch a été écrit par un des fondateurs de Doctolib. C'est dingue ! C'est une très bonne anecdote, effectivement. Et donc, évidemment, tu parlais de la procédure, dedans, il y a patché le code le plus vite possible pour qu'il ne se produise pas. Qu'est-ce qu'il y a d'autre, entre guillemets ? Donc la crise continue, on fait la com', on fait les déclarations, on appelle la police, on appelle le BEVTI, le CLCTIC, donc c'est les organismes cyber de la gendarmerie et de la police. Et on leur partage les éléments parce qu'ils vont nous aider à faire les investigations, savoir d'où vient l'attaque, etc. Et après, évidemment, une fois que tout ça s'est passé et que c'est un peu retombé, on va se dire, OK, qu'est-ce qu'on va vouloir mettre en place pour que l'occurrence d'un truc comme ça devienne de plus en plus faible et tendre vers zéro. Et donc là, il y a plein de solutions. Tu vas vouloir revoir des mécanismes de protection de ton code pour que ça soit plus fin, que ça te remonte des alertes plus vite ou que ça soit moins sensible à une erreur de programmation. À l'époque, on avait à peu près 20 000 tests de bout en bout dans notre chaîne d'intégration continue. Aujourd'hui, on en a 55 000. Donc en fait, pour expliquer, c'est une moulinette qui secoue le truc dans tous les sens pour vérifier ça. On a investi un peu plus sur les primes qu'on offre dans notre bug bounty. Donc chaque année, on essaye d'augmenter le montant. Bug bounty, c'est que tu payes des pirates pour qu'ils te remontent. Alors des pirates, des white hats, pour que globalement, ils te remontent des vulnérabilités. Et en fonction de ce qu'ils ont trouvé, tu vas les payer plus ou moins. Là, pour donner une idée, un pirate qui arrive à prendre le contrôle d'une des machines de Doctolib, il va gagner 50 000 euros. Et alors, question qui me brûle les lèvres, mais peut-être que vous n'aurez pas la réponse. C'est toujours ce qu'on a envie de savoir. Est-ce qu'on sait un peu d'où ça vient ? Qui aurait pu faire ce genre de truc ? On a des idées sur des hackers éthiques, mais... Ah oui, ce qui serait plutôt le bon scénario. Ce sont des hackers éthiques qui n'ont pas été très sympas parce qu'ils n'ont pas vraiment joué le jeu de l'éthique, pour le coup. Le compte a été créé, qui a rassemblé 10 000 rendez-vous. Globalement, ce compte-là, il a un numéro de téléphone, une adresse mail. On a écrit à l'adresse mail, on a laissé des messages sur le téléphone. On n'a jamais eu de retour, on s'est persuadé qu'il est valide. Aujourd'hui, on le sait, parce qu'on a eu affaire à cette personne ou ce groupe de personnes-là plus récemment sur un autre sujet. Maintenant, on collabore avec eux. On dirait un valide. On a jamais été confirmés officiellement, mais on... Vous avez des bonnes raisons de penser, entre guillemets. On a un très beau faisceau de preuve. C'est quand même curieux de sa part, parce que normalement, si on fait ce genre de truc, c'est pour avoir une prime de backbooty, des choses comme ça, je crois. C'était plus des conférences, des trucs comme ça. C'était plutôt pour démontrer quelque chose. Dans une cronche de hacker éthique qui est très connue, pour le coup. Là, c'est le scénario pour les clients le plus rassurant. Ça veut dire que dans les faits, ces données n'ont peu de chance de refaire surface. On ne les a jamais revues. On a des mécanismes de surveillance sur Darknet et compagnie. Pour l'instant, on ne les a jamais revues. Ce qui est le plus intéressant, je trouve, c'est surtout que vous n'êtes pas du tout en terrain inconnu quand il y a une crise qui arrive. Le vrai bon résumé de ça, c'est les militaires qui l'ont inventé. C'est le concept de défense en profondeur. Une bonne analogie, c'est que tu ne protégerais pas ta maison juste avec une porte d'entrée et tu laisserais toutes tes fenêtres ouvertes. Tu vas fermer tes fenêtres, tu vas fermer ta porte d'entrée. Tu ne vas pas laisser tes bijoux ou ton cache juste derrière la porte d'entrée s'il y a quelqu'un qui l'appelle, etc. Donc, il faut que tu rendes le plus difficile et le plus long possible pour un attaquant d'aller chercher ce qui coûte vraiment énormément de valeur. Très, très cool, en tout cas. C'est vraiment fascinant. Et effectivement, c'est très cool de faire ce genre de discussion parce qu'il y a un côté un peu moins sexy, entre guillemets, à la défense qui fait moins arriver, on voit moins ça dans les films, alors qu'en réalité, c'est construire une forteresse, entre guillemets. Et c'est vraiment un métier très cool. Si ces sujets cyber vous intéressent, on avait fait une chronique avec Jean-Baptiste Kempf, le créateur de VLC, pour parler justement des failles qu'il existe dans VLC. Et il nous a raconté des anecdotes de fous avec l'Inde, la CIA. On a découvert plein de trucs sur la face cachée de VLC. C'était dans cette vidéo. Sous-titrage ST'501\n"
     ]
    }
   ],
   "source": [
    "from pathlib import Path\n",
    "\n",
    "import whisper\n",
    "\n",
    "model = whisper.load_model(\"medium\")\n",
    "audio = whisper.load_audio(\"movie_sound.mp3\")\n",
    "result = model.transcribe('movie_sound.mp3')\n",
    "print(f' The text in video: \\n {result[\"text\"]}')"
   ],
   "metadata": {
    "collapsed": false,
    "ExecuteTime": {
     "end_time": "2024-02-18T18:25:14.757465Z",
     "start_time": "2024-02-18T18:16:58.477805Z"
    }
   },
   "id": "b40b025a70429d8f",
   "execution_count": 4
  },
  {
   "cell_type": "code",
   "outputs": [],
   "source": [
    "# store the result in a file\n",
    "with open(\"result.txt\", \"w\") as file:\n",
    "    file.write(result[\"text\"])"
   ],
   "metadata": {
    "collapsed": false,
    "ExecuteTime": {
     "end_time": "2024-02-18T18:28:36.199567Z",
     "start_time": "2024-02-18T18:28:36.196533Z"
    }
   },
   "id": "b1470f33d06a71af",
   "execution_count": 5
  },
  {
   "cell_type": "code",
   "outputs": [
    {
     "name": "stdout",
     "output_type": "stream",
     "text": [
      "ChatCompletionMessage(content=\" Today, we are joined by Cédric and Clément, who work in cybersecurity for one of the largest websites in France, Hermedoktolib. They discuss various types of attacks they have experienced, including DDoS attacks, SMS pumping, and physical security threats. They also describe a major cyberattack they faced in July 2020 during the COVID-19 pandemic, which was detected by analyzing HTTP error codes generated by an out-of-ordinary number of requests. The attacker exploited a vulnerability in the platform's code to claim ownership of 10,000 appointments that belonged to other users. The team managed to fix the issue within 14 hours and implemented additional security measures to prevent similar incidents from happening again.\", role='assistant', function_call=None, tool_calls=None)\n"
     ]
    }
   ],
   "source": [
    "# Server running locally on LMStudio\n",
    "from openai import OpenAI\n",
    "\n",
    "# Point to the local server\n",
    "client = OpenAI(base_url=\"http://localhost:1234/v1\", api_key=\"not-needed\")\n",
    "\n",
    "completion = client.chat.completions.create(\n",
    "    model=\"local-model\", # this field is currently unused\n",
    "    messages=[\n",
    "        {\"role\": \"system\", \"content\": \"You are a helpful assistant in charge of summarizing huge transcript of video. I will provide you with the text of the video. You will summarize it while keeping interesting informations. Keep the language as it is in the video.\"},\n",
    "        {\"role\": \"user\", \"content\": \"The text in video: \\n\" + result[\"text\"]},\n",
    "    ],\n",
    "    temperature=0.7,\n",
    ")\n",
    "\n",
    "print(completion.choices[0].message)"
   ],
   "metadata": {
    "collapsed": false,
    "ExecuteTime": {
     "end_time": "2024-02-18T18:50:09.796045Z",
     "start_time": "2024-02-18T18:47:23.614339Z"
    }
   },
   "id": "788bad7cecff2569",
   "execution_count": 10
  },
  {
   "cell_type": "code",
   "outputs": [],
   "source": [
    "# store the result in a file\n",
    "with open(\"result_summary.txt\", \"w\") as file:\n",
    "    file.write(completion.choices[0].message.content)"
   ],
   "metadata": {
    "collapsed": false,
    "ExecuteTime": {
     "end_time": "2024-02-18T18:52:49.493984Z",
     "start_time": "2024-02-18T18:52:49.490859Z"
    }
   },
   "id": "e30781476494f570",
   "execution_count": 12
  },
  {
   "cell_type": "code",
   "outputs": [],
   "source": [],
   "metadata": {
    "collapsed": false
   },
   "id": "29a9f9dcae0e82d4"
  }
 ],
 "metadata": {
  "kernelspec": {
   "display_name": "Python 3",
   "language": "python",
   "name": "python3"
  },
  "language_info": {
   "codemirror_mode": {
    "name": "ipython",
    "version": 2
   },
   "file_extension": ".py",
   "mimetype": "text/x-python",
   "name": "python",
   "nbconvert_exporter": "python",
   "pygments_lexer": "ipython2",
   "version": "2.7.6"
  }
 },
 "nbformat": 4,
 "nbformat_minor": 5
}
